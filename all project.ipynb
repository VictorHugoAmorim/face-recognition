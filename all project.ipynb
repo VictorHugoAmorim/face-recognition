{
 "cells": [
  {
   "cell_type": "code",
   "execution_count": 18,
   "id": "c2978838",
   "metadata": {},
   "outputs": [],
   "source": [
    "import dlib\n",
    "import face_recognition as fr\n",
    "import numpy as np\n",
    "import cv2\n",
    "\n",
    "def reconhece_face(url_foto):\n",
    "    foto = fr.load_image_file(url_foto)\n",
    "    rostos = fr.face_encodings(foto)\n",
    "    if (len(rostos) > 0):\n",
    "        return True, rostos\n",
    "    else:\n",
    "        False,[]\n",
    "\n",
    "def get_rostos():\n",
    "    #lista dos rostos\n",
    "    rostos_conhecidos = []\n",
    "    nomes_dos_rostos = []\n",
    "    nanda = reconhece_face(\"./project/img/nanda.png\")\n",
    "    if(nanda[0]):\n",
    "        rostos_conhecidos.append(nanda[1][0])\n",
    "        nomes_dos_rostos.append('Nanda')\n",
    "\n",
    "    victor = reconhece_face(\"./project/img/victor.jpg\")\n",
    "    if(victor[0]):\n",
    "        rostos_conhecidos.append(nanda[1][0])\n",
    "        nomes_dos_rostos.append('victor')\n",
    "    return rostos_conhecidos, nomes_dos_rostos\n"
   ]
  },
  {
   "cell_type": "code",
   "execution_count": 19,
   "id": "fb39c41f",
   "metadata": {},
   "outputs": [
    {
     "ename": "TypeError",
     "evalue": "'NoneType' object is not subscriptable",
     "output_type": "error",
     "traceback": [
      "\u001b[1;31m---------------------------------------------------------------------------\u001b[0m",
      "\u001b[1;31mTypeError\u001b[0m                                 Traceback (most recent call last)",
      "\u001b[1;32m~\\AppData\\Local\\Temp/ipykernel_12576/2658440330.py\u001b[0m in \u001b[0;36m<module>\u001b[1;34m\u001b[0m\n\u001b[0;32m      3\u001b[0m \u001b[1;32mif\u001b[0m\u001b[1;33m(\u001b[0m\u001b[0mdesconhecido\u001b[0m\u001b[1;33m[\u001b[0m\u001b[1;36m0\u001b[0m\u001b[1;33m]\u001b[0m\u001b[1;33m)\u001b[0m\u001b[1;33m:\u001b[0m\u001b[1;33m\u001b[0m\u001b[1;33m\u001b[0m\u001b[0m\n\u001b[0;32m      4\u001b[0m     \u001b[0mrosto_desconhecido\u001b[0m \u001b[1;33m=\u001b[0m \u001b[0mdesconhecido\u001b[0m\u001b[1;33m[\u001b[0m\u001b[1;36m1\u001b[0m\u001b[1;33m]\u001b[0m\u001b[1;33m\u001b[0m\u001b[1;33m\u001b[0m\u001b[0m\n\u001b[1;32m----> 5\u001b[1;33m     \u001b[0mrostos_conhecidos\u001b[0m\u001b[1;33m,\u001b[0m \u001b[0mnomes_dos_rostos\u001b[0m \u001b[1;33m=\u001b[0m \u001b[0mget_rostos\u001b[0m\u001b[1;33m(\u001b[0m\u001b[1;33m)\u001b[0m\u001b[1;33m\u001b[0m\u001b[1;33m\u001b[0m\u001b[0m\n\u001b[0m\u001b[0;32m      6\u001b[0m     \u001b[0mresultados\u001b[0m \u001b[1;33m=\u001b[0m \u001b[0mfr\u001b[0m\u001b[1;33m.\u001b[0m\u001b[0mcompare_faces\u001b[0m\u001b[1;33m(\u001b[0m\u001b[0mrostos_conhecidos\u001b[0m\u001b[1;33m,\u001b[0m \u001b[0mrosto_desconhecido\u001b[0m\u001b[1;33m)\u001b[0m\u001b[1;33m\u001b[0m\u001b[1;33m\u001b[0m\u001b[0m\n\u001b[0;32m      7\u001b[0m     \u001b[0mprint\u001b[0m\u001b[1;33m(\u001b[0m\u001b[0mresultados\u001b[0m\u001b[1;33m)\u001b[0m\u001b[1;33m\u001b[0m\u001b[1;33m\u001b[0m\u001b[0m\n",
      "\u001b[1;32m~\\AppData\\Local\\Temp/ipykernel_12576/1863259207.py\u001b[0m in \u001b[0;36mget_rostos\u001b[1;34m()\u001b[0m\n\u001b[0;32m     22\u001b[0m \u001b[1;33m\u001b[0m\u001b[0m\n\u001b[0;32m     23\u001b[0m     \u001b[0mvictor\u001b[0m \u001b[1;33m=\u001b[0m \u001b[0mreconhece_face\u001b[0m\u001b[1;33m(\u001b[0m\u001b[1;34m\"./project/img/victor.jpg\"\u001b[0m\u001b[1;33m)\u001b[0m\u001b[1;33m\u001b[0m\u001b[1;33m\u001b[0m\u001b[0m\n\u001b[1;32m---> 24\u001b[1;33m     \u001b[1;32mif\u001b[0m\u001b[1;33m(\u001b[0m\u001b[0mvictor\u001b[0m\u001b[1;33m[\u001b[0m\u001b[1;36m0\u001b[0m\u001b[1;33m]\u001b[0m\u001b[1;33m)\u001b[0m\u001b[1;33m:\u001b[0m\u001b[1;33m\u001b[0m\u001b[1;33m\u001b[0m\u001b[0m\n\u001b[0m\u001b[0;32m     25\u001b[0m         \u001b[0mrostos_conhecidos\u001b[0m\u001b[1;33m.\u001b[0m\u001b[0mappend\u001b[0m\u001b[1;33m(\u001b[0m\u001b[0mnanda\u001b[0m\u001b[1;33m[\u001b[0m\u001b[1;36m1\u001b[0m\u001b[1;33m]\u001b[0m\u001b[1;33m[\u001b[0m\u001b[1;36m0\u001b[0m\u001b[1;33m]\u001b[0m\u001b[1;33m)\u001b[0m\u001b[1;33m\u001b[0m\u001b[1;33m\u001b[0m\u001b[0m\n\u001b[0;32m     26\u001b[0m         \u001b[0mnomes_dos_rostos\u001b[0m\u001b[1;33m.\u001b[0m\u001b[0mappend\u001b[0m\u001b[1;33m(\u001b[0m\u001b[1;34m'victor'\u001b[0m\u001b[1;33m)\u001b[0m\u001b[1;33m\u001b[0m\u001b[1;33m\u001b[0m\u001b[0m\n",
      "\u001b[1;31mTypeError\u001b[0m: 'NoneType' object is not subscriptable"
     ]
    }
   ],
   "source": [
    "desconhecido = reconhece_face(\"./project/img/desconhecido.png\")\n",
    "\n",
    "if(desconhecido[0]):\n",
    "    rosto_desconhecido = desconhecido[1]\n",
    "    rostos_conhecidos, nomes_dos_rostos = get_rostos()\n",
    "    resultados = fr.compare_faces(rostos_conhecidos, rosto_desconhecido)\n",
    "    print(resultados)\n",
    "\n",
    "\n",
    "else:\n",
    "    print('Rosto não encontrado')"
   ]
  },
  {
   "cell_type": "code",
   "execution_count": null,
   "id": "f1bd5b88",
   "metadata": {},
   "outputs": [],
   "source": []
  }
 ],
 "metadata": {
  "kernelspec": {
   "display_name": "Python 3 (ipykernel)",
   "language": "python",
   "name": "python3"
  },
  "language_info": {
   "codemirror_mode": {
    "name": "ipython",
    "version": 3
   },
   "file_extension": ".py",
   "mimetype": "text/x-python",
   "name": "python",
   "nbconvert_exporter": "python",
   "pygments_lexer": "ipython3",
   "version": "3.9.7"
  }
 },
 "nbformat": 4,
 "nbformat_minor": 5
}
