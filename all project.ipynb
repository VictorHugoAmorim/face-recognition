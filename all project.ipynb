{
 "cells": [
  {
   "cell_type": "code",
   "execution_count": 21,
   "id": "66ebccfd",
   "metadata": {},
   "outputs": [],
   "source": [
    "import face_recognition as fr\n",
    "\n",
    "def reconhece_face(url_foto):\n",
    "    foto = fr.load_image_file(url_foto)\n",
    "    rostos = fr.face_encodings(foto)\n",
    "    if(len(rostos) > 0):\n",
    "        return True, rostos\n",
    "    \n",
    "    return False, []\n",
    "\n",
    "def get_rostos():\n",
    "    rostos_conhecidos = []\n",
    "    nomes_dos_rostos = []\n",
    "\n",
    "    victor = reconhece_face(\"./project/img/victor.jpg\")\n",
    "    if(victor[0]):\n",
    "        rostos_conhecidos.append(victor[1][0])\n",
    "        nomes_dos_rostos.append(\"victor\")\n",
    "\n",
    "    nanda = reconhece_face(\"./project/img/nanda.png\")\n",
    "    if(nanda[0]):\n",
    "        rostos_conhecidos.append(nanda[1][0])\n",
    "        nomes_dos_rostos.append(\"nanda\")\n",
    "    \n",
    "    return rostos_conhecidos, nomes_dos_rostos"
   ]
  },
  {
   "cell_type": "code",
   "execution_count": 22,
   "id": "5c23ef57",
   "metadata": {},
   "outputs": [
    {
     "name": "stdout",
     "output_type": "stream",
     "text": [
      "[False]\n"
     ]
    }
   ],
   "source": [
    "desconhecido = reconhece_face(\"./project/img/desconhecido.png\")\n",
    "if(desconhecido[0]):\n",
    "    rosto_desconhecido = desconhecido[1][0]\n",
    "    rostos_conhecidos, nomes_dos_rostos = get_rostos()\n",
    "    resultados = fr.compare_faces(rostos_conhecidos, rosto_desconhecido)\n",
    "    print(resultados)\n",
    "\n",
    "    for i in range(len(rostos_conhecidos)):\n",
    "        resultado = resultados[i]\n",
    "        if(resultado):\n",
    "            print(\"Rosto do\", nomes_dos_rostos[i], \"foi reconhecido\")\n",
    "\n",
    "else:\n",
    "    print(\"Nao foi encontrado nenhum rosto\")"
   ]
  }
 ],
 "metadata": {
  "kernelspec": {
   "display_name": "Python 3 (ipykernel)",
   "language": "python",
   "name": "python3"
  },
  "language_info": {
   "codemirror_mode": {
    "name": "ipython",
    "version": 3
   },
   "file_extension": ".py",
   "mimetype": "text/x-python",
   "name": "python",
   "nbconvert_exporter": "python",
   "pygments_lexer": "ipython3",
   "version": "3.9.7"
  }
 },
 "nbformat": 4,
 "nbformat_minor": 5
}
